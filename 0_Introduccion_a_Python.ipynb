{
  "cells": [
    {
      "cell_type": "markdown",
      "source": [
        "# Generalidades de Python\n"
      ],
      "metadata": {
        "id": "u8mFW1GeKpve"
      },
      "id": "u8mFW1GeKpve"
    },
    {
      "cell_type": "markdown",
      "source": [
        "## Print"
      ],
      "metadata": {
        "id": "sDMJOW0uKurG"
      },
      "id": "sDMJOW0uKurG"
    },
    {
      "cell_type": "markdown",
      "source": [
        "La función print \"Imprime\" en pantalla el mensaje especificado."
      ],
      "metadata": {
        "id": "444sTEWtK8Ri"
      },
      "id": "444sTEWtK8Ri"
    },
    {
      "cell_type": "code",
      "execution_count": null,
      "id": "67a12842",
      "metadata": {
        "colab": {
          "base_uri": "https://localhost:8080/"
        },
        "id": "67a12842",
        "outputId": "84b62338-c0a5-494c-a314-870c5c2f136f"
      },
      "outputs": [
        {
          "output_type": "stream",
          "name": "stdout",
          "text": [
            "Hola Mundo!\n"
          ]
        }
      ],
      "source": [
        "print('Hola Mundo!')"
      ]
    },
    {
      "cell_type": "code",
      "execution_count": null,
      "id": "7d980cc2",
      "metadata": {
        "colab": {
          "base_uri": "https://localhost:8080/"
        },
        "id": "7d980cc2",
        "outputId": "cade24dd-a989-4fac-8dbc-05a64319ee19"
      },
      "outputs": [
        {
          "output_type": "stream",
          "name": "stdout",
          "text": [
            "555\n"
          ]
        }
      ],
      "source": [
        "print(550 + 5)"
      ]
    },
    {
      "cell_type": "code",
      "execution_count": null,
      "id": "29b01273",
      "metadata": {
        "colab": {
          "base_uri": "https://localhost:8080/"
        },
        "id": "29b01273",
        "outputId": "4e5f4eb8-94e8-4beb-aba3-efa539efe707"
      },
      "outputs": [
        {
          "output_type": "stream",
          "name": "stdout",
          "text": [
            "Primero va esta parte, y después esta\n"
          ]
        }
      ],
      "source": [
        "print('Primero va esta parte' + ', y después esta')"
      ]
    },
    {
      "cell_type": "markdown",
      "source": [
        "La notación \\n sirve para colocar espacios entre sentencias, y \\t sirve para colocar espacios tabulares."
      ],
      "metadata": {
        "id": "jtRca8OhLaON"
      },
      "id": "jtRca8OhLaON"
    },
    {
      "cell_type": "code",
      "execution_count": null,
      "id": "fe031457",
      "metadata": {
        "colab": {
          "base_uri": "https://localhost:8080/"
        },
        "id": "fe031457",
        "outputId": "7ee910f9-2adf-4c8c-937e-5f2e5295fd80"
      },
      "outputs": [
        {
          "output_type": "stream",
          "name": "stdout",
          "text": [
            "Línea 1\n",
            "Línea 2\n",
            "Línea 3\n"
          ]
        }
      ],
      "source": [
        "print('Línea 1\\nLínea 2\\nLínea 3')"
      ]
    },
    {
      "cell_type": "code",
      "execution_count": null,
      "id": "da6a208c",
      "metadata": {
        "colab": {
          "base_uri": "https://localhost:8080/"
        },
        "id": "da6a208c",
        "outputId": "8c2e371e-c382-4db4-b161-661e494ab18b"
      },
      "outputs": [
        {
          "output_type": "stream",
          "name": "stdout",
          "text": [
            "A\tB\tC\n",
            "D\tE\tF\n",
            "G\tH\tI\n"
          ]
        }
      ],
      "source": [
        "print('A\\tB\\tC\\nD\\tE\\tF\\nG\\tH\\tI')"
      ]
    },
    {
      "cell_type": "markdown",
      "source": [
        "## Input"
      ],
      "metadata": {
        "id": "Q9rE6AyIL4fk"
      },
      "id": "Q9rE6AyIL4fk"
    },
    {
      "cell_type": "markdown",
      "source": [
        "La función Input almacena la información que se coloque en un espacio."
      ],
      "metadata": {
        "id": "XduKZct9L9XQ"
      },
      "id": "XduKZct9L9XQ"
    },
    {
      "cell_type": "code",
      "execution_count": null,
      "id": "8aaa88fd",
      "metadata": {
        "colab": {
          "base_uri": "https://localhost:8080/"
        },
        "id": "8aaa88fd",
        "outputId": "b5f3769e-59c5-46bb-cefa-00cb76ee63f8"
      },
      "outputs": [
        {
          "output_type": "stream",
          "name": "stdout",
          "text": [
            "¿Qué estás estudiando? Hola\n",
            "Hola\n"
          ]
        }
      ],
      "source": [
        "print(input('¿Qué estás estudiando? '))"
      ]
    },
    {
      "cell_type": "code",
      "execution_count": null,
      "id": "ab6f2f3c",
      "metadata": {
        "colab": {
          "base_uri": "https://localhost:8080/"
        },
        "id": "ab6f2f3c",
        "outputId": "448cb2a4-99ec-4c1a-f3a3-20cbfe42af86"
      },
      "outputs": [
        {
          "output_type": "stream",
          "name": "stdout",
          "text": [
            "Escribe tu nombre: Simón\n",
            "Escribe tu apellido: Gómez\n",
            "Simón Gómez\n"
          ]
        }
      ],
      "source": [
        "print(input('Escribe tu nombre: ') + ' ' + input('Escribe tu apellido: '))"
      ]
    },
    {
      "cell_type": "markdown",
      "source": [
        "## Variables"
      ],
      "metadata": {
        "id": "GXRRSBvSMPX7"
      },
      "id": "GXRRSBvSMPX7"
    },
    {
      "cell_type": "markdown",
      "source": [
        "La notación nnn = x asigna a la variable de la izquierda, el valor que haya a la derecha...A posteriori, se puede observar el tipo de dato con la función Type."
      ],
      "metadata": {
        "id": "D7otOR-JMS_0"
      },
      "id": "D7otOR-JMS_0"
    },
    {
      "cell_type": "code",
      "execution_count": null,
      "id": "b4bed611",
      "metadata": {
        "id": "b4bed611"
      },
      "outputs": [],
      "source": [
        "nombre = \"Walter Mitty\"\n",
        "numero = 8\n",
        "estatura = 1.72"
      ]
    },
    {
      "cell_type": "markdown",
      "source": [
        "Para colocar variables dinámicas en un print, es importante que el formato sea print(f\"\") para indicar que dentro del formato habrá variables a ser sustituidas; estas variables deben de esta entre llaves."
      ],
      "metadata": {
        "id": "reMOJ5RtN_fk"
      },
      "id": "reMOJ5RtN_fk"
    },
    {
      "cell_type": "code",
      "execution_count": null,
      "id": "f7fd7f1a",
      "metadata": {
        "colab": {
          "base_uri": "https://localhost:8080/"
        },
        "id": "f7fd7f1a",
        "outputId": "397d90a6-2f66-4ee8-807f-c2ad622b3c13"
      },
      "outputs": [
        {
          "output_type": "stream",
          "name": "stdout",
          "text": [
            "El nombre es Walter Mitty\n"
          ]
        }
      ],
      "source": [
        "print(f\"El nombre es {nombre}\")"
      ]
    },
    {
      "cell_type": "code",
      "source": [
        "print(type(nombre))\n",
        "print(type(numero))\n",
        "print(type(estatura))"
      ],
      "metadata": {
        "colab": {
          "base_uri": "https://localhost:8080/"
        },
        "id": "q2vIANaGNcj7",
        "outputId": "d9345a4f-fef4-40f4-9c73-4bcf1d4fffbc"
      },
      "id": "q2vIANaGNcj7",
      "execution_count": null,
      "outputs": [
        {
          "output_type": "stream",
          "name": "stdout",
          "text": [
            "<class 'str'>\n",
            "<class 'int'>\n",
            "<class 'float'>\n"
          ]
        }
      ]
    },
    {
      "cell_type": "code",
      "source": [
        "print(f\"{type(nombre)}\\n{type(numero)}\\n{type(estatura)}\")"
      ],
      "metadata": {
        "colab": {
          "base_uri": "https://localhost:8080/"
        },
        "id": "-ooO2QB2PO8S",
        "outputId": "bbcb54f2-3521-4118-ec13-f2416ea59362"
      },
      "id": "-ooO2QB2PO8S",
      "execution_count": null,
      "outputs": [
        {
          "output_type": "stream",
          "name": "stdout",
          "text": [
            "<class 'str'>\n",
            "<class 'int'>\n",
            "<class 'float'>\n"
          ]
        }
      ]
    },
    {
      "cell_type": "code",
      "execution_count": null,
      "id": "aae18360",
      "metadata": {
        "id": "aae18360",
        "outputId": "698a307a-1fc5-4f73-b12c-95402f96f015"
      },
      "outputs": [
        {
          "data": {
            "text/plain": [
              "float"
            ]
          },
          "execution_count": 13,
          "metadata": {},
          "output_type": "execute_result"
        }
      ],
      "source": [
        "estatura = 1.73\n",
        "type(estatura)"
      ]
    },
    {
      "cell_type": "code",
      "execution_count": 1,
      "id": "b401451f",
      "metadata": {
        "colab": {
          "base_uri": "https://localhost:8080/"
        },
        "id": "b401451f",
        "outputId": "a4b03387-9a8a-4789-bbf5-70b147eb659a"
      },
      "outputs": [
        {
          "output_type": "stream",
          "name": "stdout",
          "text": [
            "Escribe tu nombre: Simon\n",
            "Simon\n"
          ]
        }
      ],
      "source": [
        "nombre = input('Escribe tu nombre: ')\n",
        "print(nombre)"
      ]
    },
    {
      "cell_type": "markdown",
      "source": [
        "## Listas, Tuplas y Diccionarios"
      ],
      "metadata": {
        "id": "U2P1fqxIPppf"
      },
      "id": "U2P1fqxIPppf"
    },
    {
      "cell_type": "markdown",
      "source": [
        "### Listas"
      ],
      "metadata": {
        "id": "VZNHnZs6So0z"
      },
      "id": "VZNHnZs6So0z"
    },
    {
      "cell_type": "markdown",
      "source": [
        "Una lista es una colección de datos ordenados, se separan por comas y se contienen entre dos corchetes [ ]. Si quiero buscar un elemento en particular, entonces invoco la lista y entre corchetes, agrego la posición."
      ],
      "metadata": {
        "id": "kE224aoZP_-L"
      },
      "id": "kE224aoZP_-L"
    },
    {
      "cell_type": "code",
      "execution_count": null,
      "id": "aaaa10c6",
      "metadata": {
        "colab": {
          "base_uri": "https://localhost:8080/"
        },
        "id": "aaaa10c6",
        "outputId": "3d2dd0b8-97d6-4ca8-f36e-04c8f29f4e4b"
      },
      "outputs": [
        {
          "output_type": "stream",
          "name": "stdout",
          "text": [
            "Miguel\n"
          ]
        }
      ],
      "source": [
        "lista = ['Juan','Miguel','Carolina']\n",
        "lista\n",
        "print(lista[1])"
      ]
    },
    {
      "cell_type": "code",
      "source": [
        "type(lista)"
      ],
      "metadata": {
        "colab": {
          "base_uri": "https://localhost:8080/"
        },
        "id": "QG8Dz3VvQWGv",
        "outputId": "a57a2a3c-e9f0-41e3-8c9b-ac66c59dfa01"
      },
      "id": "QG8Dz3VvQWGv",
      "execution_count": null,
      "outputs": [
        {
          "output_type": "execute_result",
          "data": {
            "text/plain": [
              "list"
            ]
          },
          "metadata": {},
          "execution_count": 55
        }
      ]
    },
    {
      "cell_type": "markdown",
      "source": [
        "El método Append sirve para agregar datos a la lista."
      ],
      "metadata": {
        "id": "ShwdwpYHQnpM"
      },
      "id": "ShwdwpYHQnpM"
    },
    {
      "cell_type": "code",
      "execution_count": null,
      "id": "1ddccf89",
      "metadata": {
        "id": "1ddccf89"
      },
      "outputs": [],
      "source": [
        "lista.append('Lucas')"
      ]
    },
    {
      "cell_type": "code",
      "execution_count": null,
      "id": "ea3b605c",
      "metadata": {
        "colab": {
          "base_uri": "https://localhost:8080/"
        },
        "id": "ea3b605c",
        "outputId": "c7fb5dd4-8cbb-415a-a001-b717427ea19e"
      },
      "outputs": [
        {
          "output_type": "execute_result",
          "data": {
            "text/plain": [
              "['Juan', 'Miguel', 'Carolina', 'Lucas']"
            ]
          },
          "metadata": {},
          "execution_count": 57
        }
      ],
      "source": [
        "lista"
      ]
    },
    {
      "cell_type": "markdown",
      "source": [
        "Al igual que la lista, la tupla es una colección de datos, pero en este caso inmutable, por lo que no tiene ningún método append."
      ],
      "metadata": {
        "id": "P42MKur0SUIp"
      },
      "id": "P42MKur0SUIp"
    },
    {
      "cell_type": "markdown",
      "source": [
        "### Tuplas"
      ],
      "metadata": {
        "id": "MQJBKIY_SrKw"
      },
      "id": "MQJBKIY_SrKw"
    },
    {
      "cell_type": "code",
      "execution_count": null,
      "id": "3c3a70a2",
      "metadata": {
        "colab": {
          "base_uri": "https://localhost:8080/"
        },
        "id": "3c3a70a2",
        "outputId": "c55c3375-dff0-417a-a87c-218577aec827"
      },
      "outputs": [
        {
          "output_type": "execute_result",
          "data": {
            "text/plain": [
              "('Juan', 'Miguel')"
            ]
          },
          "metadata": {},
          "execution_count": 61
        }
      ],
      "source": [
        "tupla = ('Juan','Miguel')\n",
        "tupla"
      ]
    },
    {
      "cell_type": "code",
      "source": [
        "type(tupla)"
      ],
      "metadata": {
        "colab": {
          "base_uri": "https://localhost:8080/"
        },
        "id": "CbFCVDbrR6Cy",
        "outputId": "9c0d81ed-7c6c-4d50-da6a-0397472b1f28"
      },
      "id": "CbFCVDbrR6Cy",
      "execution_count": null,
      "outputs": [
        {
          "output_type": "execute_result",
          "data": {
            "text/plain": [
              "tuple"
            ]
          },
          "metadata": {},
          "execution_count": 63
        }
      ]
    },
    {
      "cell_type": "markdown",
      "source": [
        "### Diccionarios"
      ],
      "metadata": {
        "id": "BKnbhX9lSuAt"
      },
      "id": "BKnbhX9lSuAt"
    },
    {
      "cell_type": "markdown",
      "source": [
        "Un diccionario es un conjunto de datos que se pueden almacenar por claves de datos."
      ],
      "metadata": {
        "id": "t87Ba2HLS7h6"
      },
      "id": "t87Ba2HLS7h6"
    },
    {
      "cell_type": "code",
      "execution_count": null,
      "id": "df819859",
      "metadata": {
        "id": "df819859"
      },
      "outputs": [],
      "source": [
        "diccionario = {'Nombre':'Juan','Edad':35}\n",
        "diccionario"
      ]
    },
    {
      "cell_type": "code",
      "source": [
        "type(diccionario)"
      ],
      "metadata": {
        "colab": {
          "base_uri": "https://localhost:8080/"
        },
        "id": "tDXJ-SImSy7O",
        "outputId": "442cc843-9341-4bba-e131-fb27bd6364fc"
      },
      "id": "tDXJ-SImSy7O",
      "execution_count": null,
      "outputs": [
        {
          "output_type": "execute_result",
          "data": {
            "text/plain": [
              "dict"
            ]
          },
          "metadata": {},
          "execution_count": 67
        }
      ]
    },
    {
      "cell_type": "code",
      "source": [
        "diccionario[\"Estatura\"] = 1.78"
      ],
      "metadata": {
        "id": "727bd_PFUnmx"
      },
      "id": "727bd_PFUnmx",
      "execution_count": null,
      "outputs": []
    },
    {
      "cell_type": "code",
      "source": [
        "diccionario"
      ],
      "metadata": {
        "colab": {
          "base_uri": "https://localhost:8080/"
        },
        "id": "8z8Yo3vVUqHb",
        "outputId": "4a4dbd09-34f8-4540-d29f-a8ba0cf291db"
      },
      "id": "8z8Yo3vVUqHb",
      "execution_count": null,
      "outputs": [
        {
          "output_type": "execute_result",
          "data": {
            "text/plain": [
              "{'Nombre': 'Juan', 'Edad': 35, 'Estatura': 1.78}"
            ]
          },
          "metadata": {},
          "execution_count": 73
        }
      ]
    },
    {
      "cell_type": "markdown",
      "source": [
        "## Operadores Matemáticos"
      ],
      "metadata": {
        "id": "W6WPN46DU1mY"
      },
      "id": "W6WPN46DU1mY"
    },
    {
      "cell_type": "code",
      "execution_count": null,
      "id": "a142b1a6",
      "metadata": {
        "colab": {
          "base_uri": "https://localhost:8080/"
        },
        "id": "a142b1a6",
        "outputId": "e55d9f67-7c94-4291-c14a-85944c03bd5a"
      },
      "outputs": [
        {
          "output_type": "execute_result",
          "data": {
            "text/plain": [
              "50"
            ]
          },
          "metadata": {},
          "execution_count": 87
        }
      ],
      "source": [
        "x = 30\n",
        "y = 20\n",
        "x + y"
      ]
    },
    {
      "cell_type": "code",
      "execution_count": null,
      "id": "64bd175a",
      "metadata": {
        "colab": {
          "base_uri": "https://localhost:8080/"
        },
        "id": "64bd175a",
        "outputId": "234cc875-62bc-48be-cf44-9544175d1887"
      },
      "outputs": [
        {
          "output_type": "execute_result",
          "data": {
            "text/plain": [
              "10"
            ]
          },
          "metadata": {},
          "execution_count": 81
        }
      ],
      "source": [
        "x - y"
      ]
    },
    {
      "cell_type": "code",
      "execution_count": null,
      "id": "c01b18cc",
      "metadata": {
        "colab": {
          "base_uri": "https://localhost:8080/"
        },
        "id": "c01b18cc",
        "outputId": "8ccca00a-0d97-4b54-ccc1-9c653ba49ae0"
      },
      "outputs": [
        {
          "output_type": "execute_result",
          "data": {
            "text/plain": [
              "600"
            ]
          },
          "metadata": {},
          "execution_count": 82
        }
      ],
      "source": [
        "x * y"
      ]
    },
    {
      "cell_type": "code",
      "source": [
        "x / y"
      ],
      "metadata": {
        "colab": {
          "base_uri": "https://localhost:8080/"
        },
        "id": "_PHGj61oVcCF",
        "outputId": "89d87185-d89b-4b38-d874-804513913c5f"
      },
      "id": "_PHGj61oVcCF",
      "execution_count": null,
      "outputs": [
        {
          "output_type": "execute_result",
          "data": {
            "text/plain": [
              "1.5"
            ]
          },
          "metadata": {},
          "execution_count": 83
        }
      ]
    },
    {
      "cell_type": "markdown",
      "source": [
        "La división al suelo redondea al entero más cercano."
      ],
      "metadata": {
        "id": "MEJyW6YaVd2d"
      },
      "id": "MEJyW6YaVd2d"
    },
    {
      "cell_type": "code",
      "execution_count": null,
      "id": "9c0fa325",
      "metadata": {
        "colab": {
          "base_uri": "https://localhost:8080/"
        },
        "id": "9c0fa325",
        "outputId": "c8dd89c5-0d23-4ec1-e316-66da35c4f328"
      },
      "outputs": [
        {
          "output_type": "execute_result",
          "data": {
            "text/plain": [
              "1"
            ]
          },
          "metadata": {},
          "execution_count": 84
        }
      ],
      "source": [
        "x // y"
      ]
    },
    {
      "cell_type": "markdown",
      "source": [
        "El operador modulo devuelve el residuo"
      ],
      "metadata": {
        "id": "6gb3K8fgV2v8"
      },
      "id": "6gb3K8fgV2v8"
    },
    {
      "cell_type": "code",
      "execution_count": null,
      "id": "e0e2d6cf",
      "metadata": {
        "colab": {
          "base_uri": "https://localhost:8080/"
        },
        "id": "e0e2d6cf",
        "outputId": "04926d30-81d0-4f1d-c76f-1512e084efdd"
      },
      "outputs": [
        {
          "output_type": "execute_result",
          "data": {
            "text/plain": [
              "10"
            ]
          },
          "metadata": {},
          "execution_count": 88
        }
      ],
      "source": [
        "x % y"
      ]
    },
    {
      "cell_type": "markdown",
      "source": [
        "** Es para la función exponencial."
      ],
      "metadata": {
        "id": "0hMp4ANtV8Ie"
      },
      "id": "0hMp4ANtV8Ie"
    },
    {
      "cell_type": "code",
      "execution_count": null,
      "id": "6d68a195",
      "metadata": {
        "colab": {
          "base_uri": "https://localhost:8080/"
        },
        "id": "6d68a195",
        "outputId": "efd96587-4dc5-4eb4-b4cd-b6debf9eb76e"
      },
      "outputs": [
        {
          "output_type": "execute_result",
          "data": {
            "text/plain": [
              "27000"
            ]
          },
          "metadata": {},
          "execution_count": 92
        }
      ],
      "source": [
        "x ** 3"
      ]
    },
    {
      "cell_type": "markdown",
      "source": [
        "Función Round() se utiliza para redondear; si se sigue de una coma, se especifican los números, se referencia a la cantidad de decimales."
      ],
      "metadata": {
        "id": "uwIpY1iqWMkv"
      },
      "id": "uwIpY1iqWMkv"
    },
    {
      "cell_type": "code",
      "execution_count": null,
      "id": "9d788be2",
      "metadata": {
        "colab": {
          "base_uri": "https://localhost:8080/"
        },
        "id": "9d788be2",
        "outputId": "d426d547-8762-4d95-8273-6727a01b59fd"
      },
      "outputs": [
        {
          "output_type": "execute_result",
          "data": {
            "text/plain": [
              "4.82"
            ]
          },
          "metadata": {},
          "execution_count": 93
        }
      ],
      "source": [
        "x = 4.815162342\n",
        "round(x)\n",
        "round(x, 2)"
      ]
    },
    {
      "cell_type": "markdown",
      "source": [
        "## Operadores Lógicos"
      ],
      "metadata": {
        "id": "6qo53i89WkMF"
      },
      "id": "6qo53i89WkMF"
    },
    {
      "cell_type": "code",
      "execution_count": null,
      "id": "9045c11b",
      "metadata": {
        "colab": {
          "base_uri": "https://localhost:8080/"
        },
        "id": "9045c11b",
        "outputId": "3f848cb9-4cec-47de-9d82-b404710f0ce7"
      },
      "outputs": [
        {
          "output_type": "execute_result",
          "data": {
            "text/plain": [
              "False"
            ]
          },
          "metadata": {},
          "execution_count": 95
        }
      ],
      "source": [
        "x = 500\n",
        "y = 250\n",
        "x == y"
      ]
    },
    {
      "cell_type": "code",
      "execution_count": null,
      "id": "1e2df266",
      "metadata": {
        "colab": {
          "base_uri": "https://localhost:8080/"
        },
        "id": "1e2df266",
        "outputId": "479a89fd-3c65-4e84-9eb0-1d600df5c7c2"
      },
      "outputs": [
        {
          "output_type": "execute_result",
          "data": {
            "text/plain": [
              "True"
            ]
          },
          "metadata": {},
          "execution_count": 94
        }
      ],
      "source": [
        "x != y"
      ]
    },
    {
      "cell_type": "code",
      "execution_count": null,
      "id": "c89dfbba",
      "metadata": {
        "colab": {
          "base_uri": "https://localhost:8080/"
        },
        "id": "c89dfbba",
        "outputId": "44712138-168c-48c9-9825-1871e1108abb"
      },
      "outputs": [
        {
          "output_type": "execute_result",
          "data": {
            "text/plain": [
              "True"
            ]
          },
          "metadata": {},
          "execution_count": 96
        }
      ],
      "source": [
        "x > y"
      ]
    },
    {
      "cell_type": "code",
      "execution_count": null,
      "id": "387f62f3",
      "metadata": {
        "colab": {
          "base_uri": "https://localhost:8080/"
        },
        "id": "387f62f3",
        "outputId": "96848aec-413b-4ca0-db48-002251ecf264"
      },
      "outputs": [
        {
          "output_type": "execute_result",
          "data": {
            "text/plain": [
              "False"
            ]
          },
          "metadata": {},
          "execution_count": 97
        }
      ],
      "source": [
        "x <= y"
      ]
    },
    {
      "cell_type": "code",
      "execution_count": null,
      "id": "861757d0",
      "metadata": {
        "colab": {
          "base_uri": "https://localhost:8080/"
        },
        "id": "861757d0",
        "outputId": "c84ebd7a-bffa-47fd-e673-37e29f622559"
      },
      "outputs": [
        {
          "output_type": "execute_result",
          "data": {
            "text/plain": [
              "False"
            ]
          },
          "metadata": {},
          "execution_count": 100
        }
      ],
      "source": [
        "z = 10\n",
        "x > y and y < z"
      ]
    },
    {
      "cell_type": "code",
      "execution_count": null,
      "id": "16c776b3",
      "metadata": {
        "colab": {
          "base_uri": "https://localhost:8080/"
        },
        "id": "16c776b3",
        "outputId": "24591cbd-4212-4a33-ac99-29bb86619e4a"
      },
      "outputs": [
        {
          "output_type": "execute_result",
          "data": {
            "text/plain": [
              "True"
            ]
          },
          "metadata": {},
          "execution_count": 101
        }
      ],
      "source": [
        "x > y or y > z"
      ]
    },
    {
      "cell_type": "markdown",
      "source": [
        "## Condicionales"
      ],
      "metadata": {
        "id": "qxU_CDwvXuVy"
      },
      "id": "qxU_CDwvXuVy"
    },
    {
      "cell_type": "markdown",
      "source": [
        "En este ejemplo, tenemos un condicional que dados dos números, nos entrega cuál es el mayor o, si en otro caso, tenemos un empate."
      ],
      "metadata": {
        "id": "uHw5i2OBcZmS"
      },
      "id": "uHw5i2OBcZmS"
    },
    {
      "cell_type": "code",
      "execution_count": null,
      "id": "67a76284",
      "metadata": {
        "colab": {
          "base_uri": "https://localhost:8080/"
        },
        "id": "67a76284",
        "outputId": "bb9b31ec-77d7-46cd-a980-fc3613a2ed7a"
      },
      "outputs": [
        {
          "output_type": "stream",
          "name": "stdout",
          "text": [
            "Ingresa un número: 20\n",
            "Ingresa otro número: 30\n",
            "30.0 es mayor que 20.0\n"
          ]
        }
      ],
      "source": [
        "num1 = float(input('Ingresa un número: '))\n",
        "num2 = float(input('Ingresa otro número: '))\n",
        "\n",
        "if num1 > num2:\n",
        "    print(f'{num1} es mayor que {num2}')\n",
        "elif num2 > num1:\n",
        "    print(f'{num2} es mayor que {num1}')\n",
        "else:\n",
        "    print(f'{num1} y {num2} son iguales')"
      ]
    },
    {
      "cell_type": "markdown",
      "source": [
        "Dos maneras de convertir esto en una función."
      ],
      "metadata": {
        "id": "KyEDVCoxaTYN"
      },
      "id": "KyEDVCoxaTYN"
    },
    {
      "cell_type": "code",
      "source": [
        "def mayormenor(num1,num2):\n",
        "  if num1 > num2:\n",
        "      print(f'{num1} es mayor que {num2}')\n",
        "  elif num2 > num1:\n",
        "      print(f'{num2} es mayor que {num1}')\n",
        "  else:\n",
        "      print(f'{num1} y {num2} son iguales')"
      ],
      "metadata": {
        "id": "pKlBcq6FaS_3"
      },
      "id": "pKlBcq6FaS_3",
      "execution_count": 10,
      "outputs": []
    },
    {
      "cell_type": "code",
      "source": [
        "mayormenor(10,23)"
      ],
      "metadata": {
        "colab": {
          "base_uri": "https://localhost:8080/"
        },
        "id": "3ERPBwsAap_H",
        "outputId": "776816d4-f9d2-439d-9564-3f1c6bf49ee8"
      },
      "id": "3ERPBwsAap_H",
      "execution_count": 11,
      "outputs": [
        {
          "output_type": "stream",
          "name": "stdout",
          "text": [
            "23 es mayor que 10\n"
          ]
        }
      ]
    },
    {
      "cell_type": "code",
      "source": [
        "mayormenor(10,10)"
      ],
      "metadata": {
        "colab": {
          "base_uri": "https://localhost:8080/"
        },
        "id": "-GICF0ZFeYdx",
        "outputId": "77f748d4-cd61-49ed-ca95-5f883108bc0b"
      },
      "id": "-GICF0ZFeYdx",
      "execution_count": 13,
      "outputs": [
        {
          "output_type": "stream",
          "name": "stdout",
          "text": [
            "10 y 10 son iguales\n"
          ]
        }
      ]
    },
    {
      "cell_type": "code",
      "source": [
        "def mayormenor1():\n",
        "  num1 = float(input('Ingresa un número: '))\n",
        "  num2 = float(input('Ingresa otro número: '))\n",
        "\n",
        "  if num1 > num2:\n",
        "      print(f'{num1} es mayor que {num2}')\n",
        "      return [num1*num2, num1-num2]\n",
        "  elif num2 > num1:\n",
        "      print(f'{num2} es mayor que {num1}')\n",
        "      return [num1*num2, num1-num2]\n",
        "  else:\n",
        "      print(f'{num1} y {num2} son iguales')\n",
        "      return [num1*num2, num1-num2]"
      ],
      "metadata": {
        "id": "UejYC2hGbMbh"
      },
      "id": "UejYC2hGbMbh",
      "execution_count": 21,
      "outputs": []
    },
    {
      "cell_type": "code",
      "source": [
        "x = mayormenor1()"
      ],
      "metadata": {
        "colab": {
          "base_uri": "https://localhost:8080/"
        },
        "id": "yJzno0nCbRuZ",
        "outputId": "bf060c0b-2db3-4427-c136-721f398ffa67"
      },
      "id": "yJzno0nCbRuZ",
      "execution_count": 24,
      "outputs": [
        {
          "output_type": "stream",
          "name": "stdout",
          "text": [
            "Ingresa un número: 5\n",
            "Ingresa otro número: 4\n",
            "5.0 es mayor que 4.0\n"
          ]
        }
      ]
    },
    {
      "cell_type": "code",
      "source": [
        "x[1]"
      ],
      "metadata": {
        "colab": {
          "base_uri": "https://localhost:8080/"
        },
        "id": "9Eb25gtogBkG",
        "outputId": "b91115a5-52ee-451d-f711-383573a7aa62"
      },
      "id": "9Eb25gtogBkG",
      "execution_count": 25,
      "outputs": [
        {
          "output_type": "execute_result",
          "data": {
            "text/plain": [
              "1.0"
            ]
          },
          "metadata": {},
          "execution_count": 25
        }
      ]
    },
    {
      "cell_type": "code",
      "source": [
        "print(x)"
      ],
      "metadata": {
        "colab": {
          "base_uri": "https://localhost:8080/"
        },
        "id": "P7yTRZHxhI3B",
        "outputId": "64616d41-1089-4adc-d535-a0d20eee9964"
      },
      "id": "P7yTRZHxhI3B",
      "execution_count": 26,
      "outputs": [
        {
          "output_type": "stream",
          "name": "stdout",
          "text": [
            "[20.0, 1.0]\n"
          ]
        }
      ]
    },
    {
      "cell_type": "markdown",
      "source": [
        "El ciclo For se utiliza cuando se conoce el valor final del ciclo, o su cantidad de vueltas."
      ],
      "metadata": {
        "id": "0yXJeIA9chOT"
      },
      "id": "0yXJeIA9chOT"
    },
    {
      "cell_type": "code",
      "execution_count": null,
      "id": "d567795b",
      "metadata": {
        "colab": {
          "base_uri": "https://localhost:8080/"
        },
        "id": "d567795b",
        "outputId": "53c427cd-d2a0-492c-e7b2-965d22bcc5a6"
      },
      "outputs": [
        {
          "output_type": "stream",
          "name": "stdout",
          "text": [
            "Hola María\n",
            "Hola José\n",
            "Hola Luis\n",
            "Hola Juan\n",
            "Hola Pedro\n",
            "Hola Ana\n"
          ]
        }
      ],
      "source": [
        "alumnosClase = ['María', 'José', 'Luis', 'Juan', 'Pedro', 'Ana']\n",
        "\n",
        "for alumno in alumnosClase:\n",
        "    print('Hola ' + alumno)"
      ]
    },
    {
      "cell_type": "code",
      "execution_count": 30,
      "id": "897e40a0",
      "metadata": {
        "colab": {
          "base_uri": "https://localhost:8080/"
        },
        "id": "897e40a0",
        "outputId": "592f475a-8a1e-497d-8f3a-5c39564ceee8"
      },
      "outputs": [
        {
          "output_type": "stream",
          "name": "stdout",
          "text": [
            "26\n",
            "29\n"
          ]
        }
      ],
      "source": [
        "listaNumeros = [1, 3, 7, 8, 12, 5, 4, 9, 3, 1, 2]\n",
        "sumaPares = 0\n",
        "sumaImpares = 0\n",
        "\n",
        "for i in listaNumeros:\n",
        "    if i % 2 == 0:\n",
        "        sumaPares = sumaPares + i\n",
        "    else:\n",
        "        sumaImpares = sumaImpares + i\n",
        "\n",
        "print(sumaPares)\n",
        "print(sumaImpares)    "
      ]
    },
    {
      "cell_type": "markdown",
      "source": [
        "Los ciclos While son infinitos y ocurren mientras no se cumpla la confidición final del ciclo."
      ],
      "metadata": {
        "id": "y-1tnnW7crrc"
      },
      "id": "y-1tnnW7crrc"
    },
    {
      "cell_type": "code",
      "execution_count": null,
      "id": "1f71d2c9",
      "metadata": {
        "colab": {
          "base_uri": "https://localhost:8080/"
        },
        "id": "1f71d2c9",
        "outputId": "f7afe919-e6f8-4979-964d-4c136e7bf5c1"
      },
      "outputs": [
        {
          "output_type": "stream",
          "name": "stdout",
          "text": [
            "1\n",
            "2\n",
            "3\n"
          ]
        }
      ],
      "source": [
        "i = 0\n",
        "while (i < 3):\n",
        "    i = i + 1\n",
        "    print(i)"
      ]
    },
    {
      "cell_type": "code",
      "execution_count": null,
      "id": "a600f8df",
      "metadata": {
        "colab": {
          "base_uri": "https://localhost:8080/"
        },
        "id": "a600f8df",
        "outputId": "7bf3f70c-8ae3-4eee-99a9-30f11970f47e"
      },
      "outputs": [
        {
          "output_type": "stream",
          "name": "stdout",
          "text": [
            "50\n",
            "45\n",
            "40\n",
            "35\n",
            "30\n",
            "25\n",
            "20\n",
            "15\n",
            "10\n",
            "5\n",
            "0\n"
          ]
        }
      ],
      "source": [
        "numero = 50\n",
        "while (numero >= 0):\n",
        "    if numero % 5 == 0:\n",
        "        print(numero)\n",
        "    else:\n",
        "        pass\n",
        "    numero = numero - 1"
      ]
    }
  ],
  "metadata": {
    "kernelspec": {
      "display_name": "Python 3 (ipykernel)",
      "language": "python",
      "name": "python3"
    },
    "language_info": {
      "codemirror_mode": {
        "name": "ipython",
        "version": 3
      },
      "file_extension": ".py",
      "mimetype": "text/x-python",
      "name": "python",
      "nbconvert_exporter": "python",
      "pygments_lexer": "ipython3",
      "version": "3.9.13"
    },
    "colab": {
      "provenance": []
    }
  },
  "nbformat": 4,
  "nbformat_minor": 5
}